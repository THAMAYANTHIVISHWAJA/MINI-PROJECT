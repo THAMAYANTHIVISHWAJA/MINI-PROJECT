{
 "cells": [
  {
   "cell_type": "code",
   "execution_count": 1,
   "id": "4573c7b6",
   "metadata": {},
   "outputs": [],
   "source": [
    "import warnings\n",
    "warnings.simplefilter('ignore')\n"
   ]
  },
  {
   "cell_type": "code",
   "execution_count": 2,
   "id": "0563422a",
   "metadata": {},
   "outputs": [],
   "source": [
    "import numpy as n"
   ]
  },
  {
   "cell_type": "code",
   "execution_count": 3,
   "id": "7b7550ee",
   "metadata": {},
   "outputs": [
    {
     "name": "stdout",
     "output_type": "stream",
     "text": [
      "Requirement already satisfied: matplotlib in c:\\programdata\\anaconda3\\lib\\site-packages (3.4.3)\n",
      "Requirement already satisfied: kiwisolver>=1.0.1 in c:\\programdata\\anaconda3\\lib\\site-packages (from matplotlib) (1.3.1)\n",
      "Requirement already satisfied: pillow>=6.2.0 in c:\\programdata\\anaconda3\\lib\\site-packages (from matplotlib) (8.4.0)\n",
      "Requirement already satisfied: cycler>=0.10 in c:\\programdata\\anaconda3\\lib\\site-packages (from matplotlib) (0.10.0)\n",
      "Requirement already satisfied: python-dateutil>=2.7 in c:\\programdata\\anaconda3\\lib\\site-packages (from matplotlib) (2.8.2)\n",
      "Requirement already satisfied: numpy>=1.16 in c:\\programdata\\anaconda3\\lib\\site-packages (from matplotlib) (1.20.3)\n",
      "Requirement already satisfied: pyparsing>=2.2.1 in c:\\programdata\\anaconda3\\lib\\site-packages (from matplotlib) (3.0.4)\n",
      "Requirement already satisfied: six in c:\\programdata\\anaconda3\\lib\\site-packages (from cycler>=0.10->matplotlib) (1.16.0)\n",
      "Note: you may need to restart the kernel to use updated packages.\n"
     ]
    }
   ],
   "source": [
    "pip install matplotlib"
   ]
  },
  {
   "cell_type": "code",
   "execution_count": 4,
   "id": "6c65dec4",
   "metadata": {},
   "outputs": [],
   "source": [
    "import pandas as p"
   ]
  },
  {
   "cell_type": "code",
   "execution_count": 5,
   "id": "81249160",
   "metadata": {},
   "outputs": [],
   "source": [
    "import matplotlib.pyplot as plt"
   ]
  },
  {
   "cell_type": "code",
   "execution_count": 6,
   "id": "be1a298f",
   "metadata": {},
   "outputs": [],
   "source": [
    "%matplotlib inline"
   ]
  },
  {
   "cell_type": "code",
   "execution_count": 11,
   "id": "584ef285",
   "metadata": {},
   "outputs": [],
   "source": [
    "a=p.read_csv(\"C:\\\\Users\\\\Admin\\\\Documents\\\\abiiii\\\\Student_Marks.csv\")"
   ]
  },
  {
   "cell_type": "code",
   "execution_count": 12,
   "id": "c48d0efe",
   "metadata": {},
   "outputs": [
    {
     "data": {
      "text/html": [
       "<div>\n",
       "<style scoped>\n",
       "    .dataframe tbody tr th:only-of-type {\n",
       "        vertical-align: middle;\n",
       "    }\n",
       "\n",
       "    .dataframe tbody tr th {\n",
       "        vertical-align: top;\n",
       "    }\n",
       "\n",
       "    .dataframe thead th {\n",
       "        text-align: right;\n",
       "    }\n",
       "</style>\n",
       "<table border=\"1\" class=\"dataframe\">\n",
       "  <thead>\n",
       "    <tr style=\"text-align: right;\">\n",
       "      <th></th>\n",
       "      <th>number_courses</th>\n",
       "      <th>time_study</th>\n",
       "      <th>Marks</th>\n",
       "    </tr>\n",
       "  </thead>\n",
       "  <tbody>\n",
       "    <tr>\n",
       "      <th>0</th>\n",
       "      <td>3</td>\n",
       "      <td>4.508</td>\n",
       "      <td>19.202</td>\n",
       "    </tr>\n",
       "    <tr>\n",
       "      <th>1</th>\n",
       "      <td>4</td>\n",
       "      <td>0.096</td>\n",
       "      <td>7.734</td>\n",
       "    </tr>\n",
       "    <tr>\n",
       "      <th>2</th>\n",
       "      <td>4</td>\n",
       "      <td>3.133</td>\n",
       "      <td>13.811</td>\n",
       "    </tr>\n",
       "    <tr>\n",
       "      <th>3</th>\n",
       "      <td>6</td>\n",
       "      <td>7.909</td>\n",
       "      <td>53.018</td>\n",
       "    </tr>\n",
       "    <tr>\n",
       "      <th>4</th>\n",
       "      <td>8</td>\n",
       "      <td>7.811</td>\n",
       "      <td>55.299</td>\n",
       "    </tr>\n",
       "    <tr>\n",
       "      <th>...</th>\n",
       "      <td>...</td>\n",
       "      <td>...</td>\n",
       "      <td>...</td>\n",
       "    </tr>\n",
       "    <tr>\n",
       "      <th>95</th>\n",
       "      <td>6</td>\n",
       "      <td>3.561</td>\n",
       "      <td>19.128</td>\n",
       "    </tr>\n",
       "    <tr>\n",
       "      <th>96</th>\n",
       "      <td>3</td>\n",
       "      <td>0.301</td>\n",
       "      <td>5.609</td>\n",
       "    </tr>\n",
       "    <tr>\n",
       "      <th>97</th>\n",
       "      <td>4</td>\n",
       "      <td>7.163</td>\n",
       "      <td>41.444</td>\n",
       "    </tr>\n",
       "    <tr>\n",
       "      <th>98</th>\n",
       "      <td>7</td>\n",
       "      <td>0.309</td>\n",
       "      <td>12.027</td>\n",
       "    </tr>\n",
       "    <tr>\n",
       "      <th>99</th>\n",
       "      <td>3</td>\n",
       "      <td>6.335</td>\n",
       "      <td>32.357</td>\n",
       "    </tr>\n",
       "  </tbody>\n",
       "</table>\n",
       "<p>100 rows × 3 columns</p>\n",
       "</div>"
      ],
      "text/plain": [
       "    number_courses  time_study   Marks\n",
       "0                3       4.508  19.202\n",
       "1                4       0.096   7.734\n",
       "2                4       3.133  13.811\n",
       "3                6       7.909  53.018\n",
       "4                8       7.811  55.299\n",
       "..             ...         ...     ...\n",
       "95               6       3.561  19.128\n",
       "96               3       0.301   5.609\n",
       "97               4       7.163  41.444\n",
       "98               7       0.309  12.027\n",
       "99               3       6.335  32.357\n",
       "\n",
       "[100 rows x 3 columns]"
      ]
     },
     "execution_count": 12,
     "metadata": {},
     "output_type": "execute_result"
    }
   ],
   "source": [
    "a"
   ]
  },
  {
   "cell_type": "code",
   "execution_count": 13,
   "id": "95c9277d",
   "metadata": {
    "scrolled": false
   },
   "outputs": [
    {
     "data": {
      "text/plain": [
       "(100, 3)"
      ]
     },
     "execution_count": 13,
     "metadata": {},
     "output_type": "execute_result"
    }
   ],
   "source": [
    "a.shape"
   ]
  },
  {
   "cell_type": "code",
   "execution_count": 14,
   "id": "3fa98c24",
   "metadata": {},
   "outputs": [
    {
     "data": {
      "text/plain": [
       "<bound method DataFrame.info of     number_courses  time_study   Marks\n",
       "0                3       4.508  19.202\n",
       "1                4       0.096   7.734\n",
       "2                4       3.133  13.811\n",
       "3                6       7.909  53.018\n",
       "4                8       7.811  55.299\n",
       "..             ...         ...     ...\n",
       "95               6       3.561  19.128\n",
       "96               3       0.301   5.609\n",
       "97               4       7.163  41.444\n",
       "98               7       0.309  12.027\n",
       "99               3       6.335  32.357\n",
       "\n",
       "[100 rows x 3 columns]>"
      ]
     },
     "execution_count": 14,
     "metadata": {},
     "output_type": "execute_result"
    }
   ],
   "source": [
    "a.info"
   ]
  },
  {
   "cell_type": "code",
   "execution_count": 15,
   "id": "d22e49ab",
   "metadata": {},
   "outputs": [],
   "source": [
    "p=a.drop([\"number_courses\"],axis=1)"
   ]
  },
  {
   "cell_type": "code",
   "execution_count": 16,
   "id": "27696922",
   "metadata": {},
   "outputs": [
    {
     "data": {
      "text/html": [
       "<div>\n",
       "<style scoped>\n",
       "    .dataframe tbody tr th:only-of-type {\n",
       "        vertical-align: middle;\n",
       "    }\n",
       "\n",
       "    .dataframe tbody tr th {\n",
       "        vertical-align: top;\n",
       "    }\n",
       "\n",
       "    .dataframe thead th {\n",
       "        text-align: right;\n",
       "    }\n",
       "</style>\n",
       "<table border=\"1\" class=\"dataframe\">\n",
       "  <thead>\n",
       "    <tr style=\"text-align: right;\">\n",
       "      <th></th>\n",
       "      <th>time_study</th>\n",
       "      <th>Marks</th>\n",
       "    </tr>\n",
       "  </thead>\n",
       "  <tbody>\n",
       "    <tr>\n",
       "      <th>0</th>\n",
       "      <td>4.508</td>\n",
       "      <td>19.202</td>\n",
       "    </tr>\n",
       "    <tr>\n",
       "      <th>1</th>\n",
       "      <td>0.096</td>\n",
       "      <td>7.734</td>\n",
       "    </tr>\n",
       "    <tr>\n",
       "      <th>2</th>\n",
       "      <td>3.133</td>\n",
       "      <td>13.811</td>\n",
       "    </tr>\n",
       "    <tr>\n",
       "      <th>3</th>\n",
       "      <td>7.909</td>\n",
       "      <td>53.018</td>\n",
       "    </tr>\n",
       "    <tr>\n",
       "      <th>4</th>\n",
       "      <td>7.811</td>\n",
       "      <td>55.299</td>\n",
       "    </tr>\n",
       "    <tr>\n",
       "      <th>...</th>\n",
       "      <td>...</td>\n",
       "      <td>...</td>\n",
       "    </tr>\n",
       "    <tr>\n",
       "      <th>95</th>\n",
       "      <td>3.561</td>\n",
       "      <td>19.128</td>\n",
       "    </tr>\n",
       "    <tr>\n",
       "      <th>96</th>\n",
       "      <td>0.301</td>\n",
       "      <td>5.609</td>\n",
       "    </tr>\n",
       "    <tr>\n",
       "      <th>97</th>\n",
       "      <td>7.163</td>\n",
       "      <td>41.444</td>\n",
       "    </tr>\n",
       "    <tr>\n",
       "      <th>98</th>\n",
       "      <td>0.309</td>\n",
       "      <td>12.027</td>\n",
       "    </tr>\n",
       "    <tr>\n",
       "      <th>99</th>\n",
       "      <td>6.335</td>\n",
       "      <td>32.357</td>\n",
       "    </tr>\n",
       "  </tbody>\n",
       "</table>\n",
       "<p>100 rows × 2 columns</p>\n",
       "</div>"
      ],
      "text/plain": [
       "    time_study   Marks\n",
       "0        4.508  19.202\n",
       "1        0.096   7.734\n",
       "2        3.133  13.811\n",
       "3        7.909  53.018\n",
       "4        7.811  55.299\n",
       "..         ...     ...\n",
       "95       3.561  19.128\n",
       "96       0.301   5.609\n",
       "97       7.163  41.444\n",
       "98       0.309  12.027\n",
       "99       6.335  32.357\n",
       "\n",
       "[100 rows x 2 columns]"
      ]
     },
     "execution_count": 16,
     "metadata": {},
     "output_type": "execute_result"
    }
   ],
   "source": [
    "p"
   ]
  },
  {
   "cell_type": "code",
   "execution_count": 17,
   "id": "0dc12264",
   "metadata": {},
   "outputs": [],
   "source": [
    "x=p.iloc[:,0].values.reshape(-1,1)\n",
    "y=p.iloc[:,1].values.reshape(-1,1)"
   ]
  },
  {
   "cell_type": "code",
   "execution_count": 18,
   "id": "34cd319c",
   "metadata": {},
   "outputs": [
    {
     "data": {
      "text/plain": [
       "array([[4.508],\n",
       "       [0.096],\n",
       "       [3.133],\n",
       "       [7.909],\n",
       "       [7.811],\n",
       "       [3.211],\n",
       "       [6.063],\n",
       "       [3.413],\n",
       "       [4.41 ],\n",
       "       [6.173],\n",
       "       [7.353],\n",
       "       [0.423],\n",
       "       [4.218],\n",
       "       [4.274],\n",
       "       [2.908],\n",
       "       [4.26 ],\n",
       "       [5.719],\n",
       "       [6.08 ],\n",
       "       [7.711],\n",
       "       [3.977],\n",
       "       [4.733],\n",
       "       [6.126],\n",
       "       [2.051],\n",
       "       [4.875],\n",
       "       [3.635],\n",
       "       [1.407],\n",
       "       [0.508],\n",
       "       [4.378],\n",
       "       [0.156],\n",
       "       [1.299],\n",
       "       [3.864],\n",
       "       [1.923],\n",
       "       [0.932],\n",
       "       [6.594],\n",
       "       [4.083],\n",
       "       [7.543],\n",
       "       [2.966],\n",
       "       [7.283],\n",
       "       [6.533],\n",
       "       [7.775],\n",
       "       [0.14 ],\n",
       "       [2.754],\n",
       "       [3.591],\n",
       "       [1.557],\n",
       "       [1.954],\n",
       "       [2.061],\n",
       "       [3.797],\n",
       "       [4.779],\n",
       "       [5.635],\n",
       "       [3.913],\n",
       "       [6.703],\n",
       "       [4.13 ],\n",
       "       [0.771],\n",
       "       [6.049],\n",
       "       [7.591],\n",
       "       [2.913],\n",
       "       [7.641],\n",
       "       [7.649],\n",
       "       [6.198],\n",
       "       [7.468],\n",
       "       [0.376],\n",
       "       [2.438],\n",
       "       [3.606],\n",
       "       [4.869],\n",
       "       [0.13 ],\n",
       "       [2.142],\n",
       "       [5.473],\n",
       "       [0.55 ],\n",
       "       [1.395],\n",
       "       [3.948],\n",
       "       [3.736],\n",
       "       [2.518],\n",
       "       [4.633],\n",
       "       [1.629],\n",
       "       [6.954],\n",
       "       [0.803],\n",
       "       [6.379],\n",
       "       [5.985],\n",
       "       [7.451],\n",
       "       [0.805],\n",
       "       [7.957],\n",
       "       [2.262],\n",
       "       [7.41 ],\n",
       "       [3.197],\n",
       "       [1.982],\n",
       "       [6.201],\n",
       "       [4.067],\n",
       "       [1.033],\n",
       "       [1.803],\n",
       "       [6.376],\n",
       "       [4.182],\n",
       "       [2.73 ],\n",
       "       [5.027],\n",
       "       [6.471],\n",
       "       [3.919],\n",
       "       [3.561],\n",
       "       [0.301],\n",
       "       [7.163],\n",
       "       [0.309],\n",
       "       [6.335]])"
      ]
     },
     "execution_count": 18,
     "metadata": {},
     "output_type": "execute_result"
    }
   ],
   "source": [
    "x"
   ]
  },
  {
   "cell_type": "code",
   "execution_count": 19,
   "id": "6d43c89d",
   "metadata": {},
   "outputs": [
    {
     "data": {
      "text/plain": [
       "array([[19.202],\n",
       "       [ 7.734],\n",
       "       [13.811],\n",
       "       [53.018],\n",
       "       [55.299],\n",
       "       [17.822],\n",
       "       [29.889],\n",
       "       [17.264],\n",
       "       [20.348],\n",
       "       [30.862],\n",
       "       [42.036],\n",
       "       [12.132],\n",
       "       [24.318],\n",
       "       [17.672],\n",
       "       [11.397],\n",
       "       [19.466],\n",
       "       [30.548],\n",
       "       [38.49 ],\n",
       "       [50.986],\n",
       "       [25.133],\n",
       "       [22.073],\n",
       "       [35.939],\n",
       "       [12.209],\n",
       "       [28.043],\n",
       "       [16.517],\n",
       "       [ 6.623],\n",
       "       [12.647],\n",
       "       [26.532],\n",
       "       [ 9.333],\n",
       "       [ 8.837],\n",
       "       [24.172],\n",
       "       [ 8.1  ],\n",
       "       [15.038],\n",
       "       [39.965],\n",
       "       [17.171],\n",
       "       [43.978],\n",
       "       [13.119],\n",
       "       [46.453],\n",
       "       [41.358],\n",
       "       [51.142],\n",
       "       [ 7.336],\n",
       "       [15.725],\n",
       "       [19.771],\n",
       "       [10.429],\n",
       "       [ 9.742],\n",
       "       [ 8.924],\n",
       "       [16.703],\n",
       "       [22.701],\n",
       "       [26.882],\n",
       "       [19.106],\n",
       "       [40.602],\n",
       "       [22.184],\n",
       "       [ 7.892],\n",
       "       [36.653],\n",
       "       [53.158],\n",
       "       [18.238],\n",
       "       [53.359],\n",
       "       [51.583],\n",
       "       [31.236],\n",
       "       [51.343],\n",
       "       [10.522],\n",
       "       [10.844],\n",
       "       [19.59 ],\n",
       "       [21.379],\n",
       "       [12.591],\n",
       "       [13.562],\n",
       "       [27.569],\n",
       "       [ 6.185],\n",
       "       [ 8.92 ],\n",
       "       [21.4  ],\n",
       "       [16.606],\n",
       "       [13.416],\n",
       "       [20.398],\n",
       "       [ 7.014],\n",
       "       [39.952],\n",
       "       [ 6.217],\n",
       "       [36.746],\n",
       "       [38.278],\n",
       "       [49.544],\n",
       "       [ 6.349],\n",
       "       [54.321],\n",
       "       [17.705],\n",
       "       [44.099],\n",
       "       [16.106],\n",
       "       [16.461],\n",
       "       [39.957],\n",
       "       [23.149],\n",
       "       [ 6.053],\n",
       "       [11.253],\n",
       "       [40.024],\n",
       "       [24.394],\n",
       "       [19.564],\n",
       "       [23.916],\n",
       "       [42.426],\n",
       "       [24.451],\n",
       "       [19.128],\n",
       "       [ 5.609],\n",
       "       [41.444],\n",
       "       [12.027],\n",
       "       [32.357]])"
      ]
     },
     "execution_count": 19,
     "metadata": {},
     "output_type": "execute_result"
    }
   ],
   "source": [
    "y"
   ]
  },
  {
   "cell_type": "code",
   "execution_count": 21,
   "id": "603c206b",
   "metadata": {},
   "outputs": [],
   "source": [
    "from sklearn.model_selection import train_test_split"
   ]
  },
  {
   "cell_type": "code",
   "execution_count": 23,
   "id": "b3140a64",
   "metadata": {},
   "outputs": [
    {
     "data": {
      "image/png": "[encoded data removed]",
      "text/plain": [
       "<Figure size 432x288 with 1 Axes>"
      ]
     },
     "metadata": {
      "needs_background": "light"
     },
     "output_type": "display_data"
    }
   ],
   "source": [
    "plt.scatter(x,y)\n",
    "plt.xlabel(\"TIME STUIDED\")\n",
    "plt.ylabel(\"MARKS\")\n",
    "plt.title('linear reg')\n",
    "plt.show()"
   ]
  },
  {
   "cell_type": "code",
   "execution_count": 24,
   "id": "5c199c6f",
   "metadata": {},
   "outputs": [],
   "source": [
    "x_train,x_test,y_train,y_test=train_test_split(x,y,train_size=0.7,random_state=0)"
   ]
  },
  {
   "cell_type": "code",
   "execution_count": 25,
   "id": "6e12dc9c",
   "metadata": {},
   "outputs": [
    {
     "data": {
      "text/plain": [
       "(70, 1)"
      ]
     },
     "execution_count": 25,
     "metadata": {},
     "output_type": "execute_result"
    }
   ],
   "source": [
    "x_train.shape"
   ]
  },
  {
   "cell_type": "code",
   "execution_count": 26,
   "id": "5f6a625c",
   "metadata": {},
   "outputs": [],
   "source": [
    "from sklearn.linear_model import LinearRegression"
   ]
  },
  {
   "cell_type": "code",
   "execution_count": 27,
   "id": "16ed07de",
   "metadata": {},
   "outputs": [],
   "source": [
    "l=LinearRegression()"
   ]
  },
  {
   "cell_type": "code",
   "execution_count": 28,
   "id": "617bd1d5",
   "metadata": {},
   "outputs": [
    {
     "data": {
      "text/plain": [
       "array([[0.376],\n",
       "       [7.957],\n",
       "       [4.182],\n",
       "       [1.395],\n",
       "       [4.13 ],\n",
       "       [4.378],\n",
       "       [7.711],\n",
       "       [7.641],\n",
       "       [4.869],\n",
       "       [6.954],\n",
       "       [0.096],\n",
       "       [2.438],\n",
       "       [3.591],\n",
       "       [2.754],\n",
       "       [7.811],\n",
       "       [4.26 ],\n",
       "       [6.08 ],\n",
       "       [0.14 ],\n",
       "       [6.533],\n",
       "       [3.211],\n",
       "       [2.73 ],\n",
       "       [7.468],\n",
       "       [4.508],\n",
       "       [4.083],\n",
       "       [0.156],\n",
       "       [6.703],\n",
       "       [0.423],\n",
       "       [7.543],\n",
       "       [4.875],\n",
       "       [0.771],\n",
       "       [7.353],\n",
       "       [1.923],\n",
       "       [5.473],\n",
       "       [7.649],\n",
       "       [0.805],\n",
       "       [6.201],\n",
       "       [0.932],\n",
       "       [1.982],\n",
       "       [2.908],\n",
       "       [6.376],\n",
       "       [3.977],\n",
       "       [1.299],\n",
       "       [3.913],\n",
       "       [7.163],\n",
       "       [0.309],\n",
       "       [3.948],\n",
       "       [4.733],\n",
       "       [3.919],\n",
       "       [4.633],\n",
       "       [5.985],\n",
       "       [1.407],\n",
       "       [7.283],\n",
       "       [2.262],\n",
       "       [3.797],\n",
       "       [7.775],\n",
       "       [2.142],\n",
       "       [6.198],\n",
       "       [4.218],\n",
       "       [1.803],\n",
       "       [3.736],\n",
       "       [1.033],\n",
       "       [2.966],\n",
       "       [6.126],\n",
       "       [3.197],\n",
       "       [6.173],\n",
       "       [0.301],\n",
       "       [0.55 ],\n",
       "       [0.13 ],\n",
       "       [4.779],\n",
       "       [1.954]])"
      ]
     },
     "execution_count": 28,
     "metadata": {},
     "output_type": "execute_result"
    }
   ],
   "source": [
    "x_train"
   ]
  },
  {
   "cell_type": "code",
   "execution_count": 29,
   "id": "b7d2ed09",
   "metadata": {},
   "outputs": [
    {
     "data": {
      "text/plain": [
       "array([[10.522],\n",
       "       [54.321],\n",
       "       [24.394],\n",
       "       [ 8.92 ],\n",
       "       [22.184],\n",
       "       [26.532],\n",
       "       [50.986],\n",
       "       [53.359],\n",
       "       [21.379],\n",
       "       [39.952],\n",
       "       [ 7.734],\n",
       "       [10.844],\n",
       "       [19.771],\n",
       "       [15.725],\n",
       "       [55.299],\n",
       "       [19.466],\n",
       "       [38.49 ],\n",
       "       [ 7.336],\n",
       "       [41.358],\n",
       "       [17.822],\n",
       "       [19.564],\n",
       "       [51.343],\n",
       "       [19.202],\n",
       "       [17.171],\n",
       "       [ 9.333],\n",
       "       [40.602],\n",
       "       [12.132],\n",
       "       [43.978],\n",
       "       [28.043],\n",
       "       [ 7.892],\n",
       "       [42.036],\n",
       "       [ 8.1  ],\n",
       "       [27.569],\n",
       "       [51.583],\n",
       "       [ 6.349],\n",
       "       [39.957],\n",
       "       [15.038],\n",
       "       [16.461],\n",
       "       [11.397],\n",
       "       [40.024],\n",
       "       [25.133],\n",
       "       [ 8.837],\n",
       "       [19.106],\n",
       "       [41.444],\n",
       "       [12.027],\n",
       "       [21.4  ],\n",
       "       [22.073],\n",
       "       [24.451],\n",
       "       [20.398],\n",
       "       [38.278],\n",
       "       [ 6.623],\n",
       "       [46.453],\n",
       "       [17.705],\n",
       "       [16.703],\n",
       "       [51.142],\n",
       "       [13.562],\n",
       "       [31.236],\n",
       "       [24.318],\n",
       "       [11.253],\n",
       "       [16.606],\n",
       "       [ 6.053],\n",
       "       [13.119],\n",
       "       [35.939],\n",
       "       [16.106],\n",
       "       [30.862],\n",
       "       [ 5.609],\n",
       "       [ 6.185],\n",
       "       [12.591],\n",
       "       [22.701],\n",
       "       [ 9.742]])"
      ]
     },
     "execution_count": 29,
     "metadata": {},
     "output_type": "execute_result"
    }
   ],
   "source": [
    "y_train"
   ]
  },
  {
   "cell_type": "code",
   "execution_count": 30,
   "id": "a89cf90f",
   "metadata": {},
   "outputs": [
    {
     "data": {
      "text/plain": [
       "LinearRegression()"
      ]
     },
     "execution_count": 30,
     "metadata": {},
     "output_type": "execute_result"
    }
   ],
   "source": [
    "l.fit(x_train,y_train)"
   ]
  },
  {
   "cell_type": "code",
   "execution_count": 31,
   "id": "843b33a7",
   "metadata": {},
   "outputs": [],
   "source": [
    "y_predict=l.predict(x_test)"
   ]
  },
  {
   "cell_type": "code",
   "execution_count": 32,
   "id": "ca7f5630",
   "metadata": {},
   "outputs": [
    {
     "data": {
      "text/plain": [
       "array([[ 4.89595778],\n",
       "       [24.79374457],\n",
       "       [19.57190336],\n",
       "       [18.34191935],\n",
       "       [ 6.54525452],\n",
       "       [38.2341153 ],\n",
       "       [34.02980632],\n",
       "       [11.16328539],\n",
       "       [44.49585208],\n",
       "       [21.96478134],\n",
       "       [35.87478233],\n",
       "       [30.16094752],\n",
       "       [43.71313498],\n",
       "       [25.9510477 ],\n",
       "       [21.13733755],\n",
       "       [23.65880477],\n",
       "       [13.52261836],\n",
       "       [22.37850324],\n",
       "       [38.92178818],\n",
       "       [26.71140145],\n",
       "       [10.76074517],\n",
       "       [22.21636898],\n",
       "       [46.27373806],\n",
       "       [16.13353896],\n",
       "       [13.57852672],\n",
       "       [33.56017606],\n",
       "       [35.95305404],\n",
       "       [37.47376155],\n",
       "       [43.48391069],\n",
       "       [37.71975835]])"
      ]
     },
     "execution_count": 32,
     "metadata": {},
     "output_type": "execute_result"
    }
   ],
   "source": [
    "y_predict"
   ]
  },
  {
   "cell_type": "code",
   "execution_count": 44,
   "id": "af8baefa",
   "metadata": {},
   "outputs": [
    {
     "data": {
      "image/png": "[encoded data removed]",
      "text/plain": [
       "<Figure size 432x288 with 1 Axes>"
      ]
     },
     "metadata": {
      "needs_background": "light"
     },
     "output_type": "display_data"
    }
   ],
   "source": [
    "plt.scatter(x,y,color='orange')\n",
    "plt.plot(x_test,y_predict,color='blue')\n",
    "plt.xlabel('time_study')\n",
    "plt.ylabel('Marks')\n",
    "plt.title('linear reg')\n",
    "plt.show()"
   ]
  },
  {
   "cell_type": "code",
   "execution_count": 45,
   "id": "aee6e7f3",
   "metadata": {},
   "outputs": [],
   "source": [
    "from sklearn.metrics import mean_squared_error,mean_absolute_error,r2_score"
   ]
  },
  {
   "cell_type": "code",
   "execution_count": 46,
   "id": "8ab8144d",
   "metadata": {},
   "outputs": [
    {
     "data": {
      "text/plain": [
       "21.719327705509265"
      ]
     },
     "execution_count": 46,
     "metadata": {},
     "output_type": "execute_result"
    }
   ],
   "source": [
    "mean_squared_error(y_test,y_predict)"
   ]
  },
  {
   "cell_type": "code",
   "execution_count": 47,
   "id": "4b4b6a6b",
   "metadata": {},
   "outputs": [
    {
     "data": {
      "text/plain": [
       "3.8511465444166673"
      ]
     },
     "execution_count": 47,
     "metadata": {},
     "output_type": "execute_result"
    }
   ],
   "source": [
    "mean_absolute_error(y_test,y_predict)"
   ]
  },
  {
   "cell_type": "code",
   "execution_count": null,
   "id": "82e3976e",
   "metadata": {},
   "outputs": [],
   "source": []
  }
 ],
 "metadata": {
  "kernelspec": {
   "display_name": "Python 3 (ipykernel)",
   "language": "python",
   "name": "python3"
  },
  "language_info": {
   "codemirror_mode": {
    "name": "ipython",
    "version": 3
   },
   "file_extension": ".py",
   "mimetype": "text/x-python",
   "name": "python",
   "nbconvert_exporter": "python",
   "pygments_lexer": "ipython3",
   "version": "3.9.7"
  }
 },
 "nbformat": 4,
 "nbformat_minor": 5
}
